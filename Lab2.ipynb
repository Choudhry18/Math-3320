{
 "cells": [
  {
   "cell_type": "code",
   "execution_count": 47,
   "metadata": {},
   "outputs": [],
   "source": [
    "import pandas as pd"
   ]
  },
  {
   "cell_type": "code",
   "execution_count": 48,
   "metadata": {},
   "outputs": [
    {
     "data": {
      "text/html": [
       "<div>\n",
       "<style scoped>\n",
       "    .dataframe tbody tr th:only-of-type {\n",
       "        vertical-align: middle;\n",
       "    }\n",
       "\n",
       "    .dataframe tbody tr th {\n",
       "        vertical-align: top;\n",
       "    }\n",
       "\n",
       "    .dataframe thead th {\n",
       "        text-align: right;\n",
       "    }\n",
       "</style>\n",
       "<table border=\"1\" class=\"dataframe\">\n",
       "  <thead>\n",
       "    <tr style=\"text-align: right;\">\n",
       "      <th></th>\n",
       "      <th>CalfMaxGirth</th>\n",
       "      <th>AnkleMinGirth</th>\n",
       "      <th>BicepGirth</th>\n",
       "      <th>ForearmGirth</th>\n",
       "      <th>WristMinGirth</th>\n",
       "      <th>Age</th>\n",
       "      <th>Weight</th>\n",
       "      <th>Height</th>\n",
       "      <th>Gender</th>\n",
       "    </tr>\n",
       "  </thead>\n",
       "  <tbody>\n",
       "    <tr>\n",
       "      <th>0</th>\n",
       "      <td>36.5</td>\n",
       "      <td>23.5</td>\n",
       "      <td>32.5</td>\n",
       "      <td>26.0</td>\n",
       "      <td>16.5</td>\n",
       "      <td>21</td>\n",
       "      <td>65.6</td>\n",
       "      <td>174.0</td>\n",
       "      <td>1</td>\n",
       "    </tr>\n",
       "    <tr>\n",
       "      <th>1</th>\n",
       "      <td>37.5</td>\n",
       "      <td>24.5</td>\n",
       "      <td>34.4</td>\n",
       "      <td>28.0</td>\n",
       "      <td>17.0</td>\n",
       "      <td>23</td>\n",
       "      <td>71.8</td>\n",
       "      <td>175.3</td>\n",
       "      <td>1</td>\n",
       "    </tr>\n",
       "    <tr>\n",
       "      <th>2</th>\n",
       "      <td>37.3</td>\n",
       "      <td>21.9</td>\n",
       "      <td>33.4</td>\n",
       "      <td>28.8</td>\n",
       "      <td>16.9</td>\n",
       "      <td>28</td>\n",
       "      <td>80.7</td>\n",
       "      <td>193.5</td>\n",
       "      <td>1</td>\n",
       "    </tr>\n",
       "    <tr>\n",
       "      <th>3</th>\n",
       "      <td>34.8</td>\n",
       "      <td>23.0</td>\n",
       "      <td>31.0</td>\n",
       "      <td>26.2</td>\n",
       "      <td>16.6</td>\n",
       "      <td>23</td>\n",
       "      <td>72.6</td>\n",
       "      <td>186.5</td>\n",
       "      <td>1</td>\n",
       "    </tr>\n",
       "    <tr>\n",
       "      <th>4</th>\n",
       "      <td>38.6</td>\n",
       "      <td>24.4</td>\n",
       "      <td>32.0</td>\n",
       "      <td>28.4</td>\n",
       "      <td>18.0</td>\n",
       "      <td>22</td>\n",
       "      <td>78.8</td>\n",
       "      <td>187.2</td>\n",
       "      <td>1</td>\n",
       "    </tr>\n",
       "  </tbody>\n",
       "</table>\n",
       "</div>"
      ],
      "text/plain": [
       "   CalfMaxGirth  AnkleMinGirth  BicepGirth  ForearmGirth  WristMinGirth  Age  \\\n",
       "0          36.5           23.5        32.5          26.0           16.5   21   \n",
       "1          37.5           24.5        34.4          28.0           17.0   23   \n",
       "2          37.3           21.9        33.4          28.8           16.9   28   \n",
       "3          34.8           23.0        31.0          26.2           16.6   23   \n",
       "4          38.6           24.4        32.0          28.4           18.0   22   \n",
       "\n",
       "   Weight  Height  Gender  \n",
       "0    65.6   174.0       1  \n",
       "1    71.8   175.3       1  \n",
       "2    80.7   193.5       1  \n",
       "3    72.6   186.5       1  \n",
       "4    78.8   187.2       1  "
      ]
     },
     "execution_count": 48,
     "metadata": {},
     "output_type": "execute_result"
    }
   ],
   "source": [
    "df = pd.read_csv('body.csv')\n",
    "df.head()"
   ]
  },
  {
   "cell_type": "markdown",
   "metadata": {},
   "source": [
    "Q1. (a) Use the data to estimate the probability that a person would be able to fit the strap around his or her wrist\n",
    "and ankle and upper arm."
   ]
  },
  {
   "cell_type": "code",
   "execution_count": 49,
   "metadata": {},
   "outputs": [
    {
     "name": "stdout",
     "output_type": "stream",
     "text": [
      "The probability of the sample size being able to fit the strap around wrist ankle and arm is: 0.0000\n"
     ]
    }
   ],
   "source": [
    "total_size = df.shape[0]\n",
    "wrist_anke_arm =df[(df['WristMinGirth'] >= 15) & (df['WristMinGirth'] <= 21) & \n",
    "                    (df['AnkleMinGirth'] >= 15) & (df['AnkleMinGirth'] <= 21) &\n",
    "                    (df['BicepGirth'] >= 15) & (df['BicepGirth'] <= 21)]\n",
    "wrist_anke_arm_size = wrist_anke_arm.shape[0]\n",
    "print(f'The probability of the sample size being able to fit the strap around wrist ankle and arm is: {wrist_anke_arm_size/total_size:.4f}')"
   ]
  },
  {
   "cell_type": "markdown",
   "metadata": {},
   "source": [
    "(b) Use the data to estimate the probability that a person would be able to fit the strap around his or her wrist\n",
    "or ankle or upper arm."
   ]
  },
  {
   "cell_type": "code",
   "execution_count": 50,
   "metadata": {},
   "outputs": [
    {
     "name": "stdout",
     "output_type": "stream",
     "text": [
      "The probability of the sample size being able to fit the strap around wrist ankle or arm is: 0.9448\n"
     ]
    }
   ],
   "source": [
    "ORwrist_anke_arm = df[((df['WristMinGirth'] >= 15) & (df['WristMinGirth'] <= 21)) | \n",
    "                    ((df['AnkleMinGirth'] >= 15) & (df['AnkleMinGirth'] <= 21)) |\n",
    "                    ((df['BicepGirth'] >= 15) & (df['BicepGirth'] <= 21))]\n",
    "ORwrist_anke_arm_size = ORwrist_anke_arm.shape[0]\n",
    "print(f'The probability of the sample size being able to fit the strap around wrist ankle or arm is: {ORwrist_anke_arm_size/total_size:.4f}')"
   ]
  },
  {
   "cell_type": "markdown",
   "metadata": {},
   "source": [
    "(c) Use the data to estimate the probability that a person would be able to fit the strap around his or her wrist\n",
    "and either his or her ankle or upper arm."
   ]
  },
  {
   "cell_type": "code",
   "execution_count": 51,
   "metadata": {},
   "outputs": [
    {
     "name": "stdout",
     "output_type": "stream",
     "text": [
      "The probability of the sample size being able to fit the strap around wrist and ankle or arm is: 0.1124\n"
     ]
    }
   ],
   "source": [
    "wristAnd_AnkleORArm =  df[((df['WristMinGirth'] >= 15) & (df['WristMinGirth'] <= 21)) & \n",
    "                    (((df['AnkleMinGirth'] >= 15) & (df['AnkleMinGirth'] <= 21)) |\n",
    "                    ((df['BicepGirth'] >= 15) & (df['BicepGirth'] <= 21)))]\n",
    "wristAnd_AnkleORArm_size = wristAnd_AnkleORArm.shape[0]\n",
    "print(f'The probability of the sample size being able to fit the strap around wrist and ankle or arm is: {wristAnd_AnkleORArm_size/total_size:.4f}')"
   ]
  },
  {
   "cell_type": "markdown",
   "metadata": {},
   "source": [
    "(d) Given the company’s goals, does one strap seem like a good solution to you? If in the end they only include one strap, how might they market the product and label the package?\n",
    "\n",
    "It works nicely for one of the wrist, ankle and bicep (working for one use is 94%) but the sample where it works for more than one is really small so they can market it as as serving different purpose to diff people"
   ]
  },
  {
   "cell_type": "code",
   "execution_count": 52,
   "metadata": {},
   "outputs": [],
   "source": [
    "wristTwoStraps = ((df['WristMinGirth'] >= 15) & (df['WristMinGirth'] <= 19)) \n",
    "ankleTwoStraps =  ((df['AnkleMinGirth'] >= 22) & (df['AnkleMinGirth'] <= 32))\n",
    "bicepTwoStraps =  ((df['BicepGirth'] >= 22) & (df['BicepGirth'] <= 32))\n",
    "\n"
   ]
  },
  {
   "cell_type": "code",
   "execution_count": 53,
   "metadata": {},
   "outputs": [
    {
     "name": "stdout",
     "output_type": "stream",
     "text": [
      "The probability that a person is able to fit the strap around wrist ankle and arm is: 0.1440\n"
     ]
    }
   ],
   "source": [
    "wrist_ankle_armTwo = df[wristTwoStraps & ankleTwoStraps & bicepTwoStraps]\n",
    "wrist_ankle_armTwo_size = wrist_ankle_armTwo.shape[0]\n",
    "print(f'The probability that a person is able to fit the strap around wrist ankle and arm is: {wrist_ankle_armTwo_size/total_size:.4f}')"
   ]
  },
  {
   "cell_type": "code",
   "execution_count": 54,
   "metadata": {},
   "outputs": [
    {
     "name": "stdout",
     "output_type": "stream",
     "text": [
      "The probability that a person is able to fit the strap around wrist and ankle or arm is: 0.6884\n"
     ]
    }
   ],
   "source": [
    "wrist_ankleORarmTwo = df[wristTwoStraps & (ankleTwoStraps | bicepTwoStraps)]\n",
    "print(f'The probability that a person is able to fit the strap around wrist and ankle or arm is: {wrist_ankleORarmTwo.shape[0]/total_size:.4f}')"
   ]
  },
  {
   "cell_type": "code",
   "execution_count": 55,
   "metadata": {},
   "outputs": [
    {
     "name": "stdout",
     "output_type": "stream",
     "text": [
      "The probability that a person is able to fit atleast one strap: 1.0000\n"
     ]
    }
   ],
   "source": [
    "wristORankleORarmTwo = df[(wristTwoStraps | ankleTwoStraps | bicepTwoStraps)]\n",
    "print(f'The probability that a person is able to fit atleast one strap: {wristORankleORarmTwo.shape[0]/total_size:.4f}')"
   ]
  },
  {
   "cell_type": "code",
   "execution_count": 56,
   "metadata": {},
   "outputs": [
    {
     "name": "stdout",
     "output_type": "stream",
     "text": [
      "Probability that a woman fits the wrist strap and either the ankle or upper arm strap: 0.8885\n"
     ]
    }
   ],
   "source": [
    "df_women = df[df[\"Gender\"] == 0]\n",
    "total_women = len(df_women)\n",
    "wrist_fitW = ((df_women[\"WristMinGirth\"] >= 14) & (df_women[\"WristMinGirth\"] <= 17)) | ((df_women[\"WristMinGirth\"] >= 20) & (df_women[\"WristMinGirth\"] <= 28)) \n",
    "ankle_fitW = ((df_women[\"AnkleMinGirth\"] >= 14) & (df_women[\"AnkleMinGirth\"] <= 17)) | ((df_women[\"AnkleMinGirth\"] >= 20) & (df_women[\"AnkleMinGirth\"] <= 28)) \n",
    "bicep_fitW = ((df_women[\"BicepGirth\"] >= 14) & (df_women[\"BicepGirth\"] <= 17)) | ((df_women[\"BicepGirth\"] >= 20) & (df_women[\"BicepGirth\"] <= 28))\n",
    "\n",
    "\n",
    "p_wrist_and_either = ((wrist_fitW & (ankle_fitW | bicep_fitW)).sum()) / total_women\n",
    "\n",
    "# Print result\n",
    "print(\"Probability that a woman fits the wrist strap and either the ankle or upper arm strap:\", round(p_wrist_and_either, 4))"
   ]
  },
  {
   "cell_type": "markdown",
   "metadata": {},
   "source": [
    "Q4.(a) What if these men and women aren't in there 20s or 30s our sample only has those and only has the demographic of cali \n",
    "\n",
    "(b). If the shape of those distributions differ widely from the sample data the sample data wouldn't be representative. If the data is more concentrated in the regions that is not covered by these bands that would cause an error.\n",
    "\n",
    "(c) We can suggest that the company should market the smaller strap towards use on the wrist and the other one for the other excercises. "
   ]
  },
  {
   "cell_type": "markdown",
   "metadata": {},
   "source": []
  }
 ],
 "metadata": {
  "kernelspec": {
   "display_name": ".venv",
   "language": "python",
   "name": "python3"
  },
  "language_info": {
   "codemirror_mode": {
    "name": "ipython",
    "version": 3
   },
   "file_extension": ".py",
   "mimetype": "text/x-python",
   "name": "python",
   "nbconvert_exporter": "python",
   "pygments_lexer": "ipython3",
   "version": "3.9.6"
  }
 },
 "nbformat": 4,
 "nbformat_minor": 2
}
