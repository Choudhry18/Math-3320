{
 "cells": [
  {
   "cell_type": "code",
   "execution_count": 1,
   "metadata": {},
   "outputs": [
    {
     "name": "stdout",
     "output_type": "stream",
     "text": [
      "Estimated lambda (MLE): 0.4739336492890995\n",
      "Estimated lambda (Unbiased): 0.42654028436018954\n",
      "Probability (X > x): 0.24127909430781716\n",
      "Percentage change in lambda due to outlier: -35.70637119113572\n"
     ]
    }
   ],
   "source": [
    "import numpy as np\n",
    "\n",
    "# Sample data\n",
    "data = np.array([1.4, 3.0, 2.2, 0.8, 1.9, 3.5, 2.7, 1.1, 2.5, 2.0])\n",
    "\n",
    "# (a) Calculate lambda (MLE)\n",
    "lambda_hat_mle = 1 / np.mean(data)\n",
    "print(\"Estimated lambda (MLE):\", lambda_hat_mle)\n",
    "\n",
    "# Calculate lambda (unbiased)\n",
    "n = len(data)\n",
    "lambda_hat_unbiased = (n - 1) / (n * np.mean(data))\n",
    "print(\"Estimated lambda (Unbiased):\", lambda_hat_unbiased)\n",
    "\n",
    "# (c) Calculate probability of exceeding a certain value x\n",
    "x = 3  # Value of interest\n",
    "probability = np.exp(-lambda_hat_mle * x)\n",
    "print(\"Probability (X > x):\", probability)\n",
    "\n",
    "# (d) Sensitivity to outliers\n",
    "data_with_outlier = np.append(data, 15)\n",
    "lambda_hat_mle_with_outlier = 1 / np.mean(data_with_outlier)\n",
    "\n",
    "percentage_change = ((lambda_hat_mle_with_outlier - lambda_hat_mle) / lambda_hat_mle) * 100\n",
    "print(\"Percentage change in lambda due to outlier:\", percentage_change)"
   ]
  }
 ],
 "metadata": {
  "kernelspec": {
   "display_name": ".venv",
   "language": "python",
   "name": "python3"
  },
  "language_info": {
   "codemirror_mode": {
    "name": "ipython",
    "version": 3
   },
   "file_extension": ".py",
   "mimetype": "text/x-python",
   "name": "python",
   "nbconvert_exporter": "python",
   "pygments_lexer": "ipython3",
   "version": "3.9.6"
  }
 },
 "nbformat": 4,
 "nbformat_minor": 2
}
