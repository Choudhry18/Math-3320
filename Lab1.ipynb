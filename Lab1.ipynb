{
  "cells": [
    {
      "cell_type": "code",
      "execution_count": 2,
      "metadata": {
        "id": "z4B8RBAvp_V0"
      },
      "outputs": [
        {
          "name": "stderr",
          "output_type": "stream",
          "text": [
            "Matplotlib is building the font cache; this may take a moment.\n"
          ]
        }
      ],
      "source": [
        "import pandas as pd\n",
        "import matplotlib.pyplot as plt\n",
        "import numpy as np"
      ]
    },
    {
      "cell_type": "code",
      "execution_count": 4,
      "metadata": {
        "colab": {
          "base_uri": "https://localhost:8080/",
          "height": 489
        },
        "id": "9AMVPqfVp9Xf",
        "outputId": "79cce9c9-5438-4e31-a822-5d42e78e8a16"
      },
      "outputs": [
        {
          "name": "stdout",
          "output_type": "stream",
          "text": [
            "[0, 50000, 100000, 150000, 200000, 250000, 300000, 350000, 400000, 450000, 500000, 550000, 600000, 650000, 700000, 750000, 800000, 850000, 900000, 950000, 1000000, 1050000, 1100000, 1150000]\n"
          ]
        },
        {
          "data": {
            "image/png": "[encoded data removed]",
            "text/plain": [
              "<Figure size 640x480 with 1 Axes>"
            ]
          },
          "metadata": {},
          "output_type": "display_data"
        }
      ],
      "source": [
        "df = pd.read_csv('bellemployeesalaries.csv')\n",
        "bell_df = df[df['cityName'] == \"Bell\"]\n",
        "bell_wages = bell_df['wages']\n",
        "xlabel = []\n",
        "for i in range(0,max(bell_wages),50000):\n",
        "  xlabel.append(i)\n",
        "\n",
        "print(xlabel)\n",
        "plt.hist(bell_wages, bins=np.arange(0, int(max(bell_wages))+50000, 50000), edgecolor='black')\n",
        "plt.xlabel('Wages')\n",
        "plt.ylabel('Frequency')\n",
        "plt.title('Histogram of Data')\n",
        "\n",
        "# Show the plot\n",
        "plt.show()\n"
      ]
    },
    {
      "cell_type": "markdown",
      "metadata": {
        "id": "HG4arGZtwU_g"
      },
      "source": [
        "It is not symetric it is concentrated to the left. The mean will be larger than medium because of the outliers in the data which will scew the mean to be higher whereas median is based on the middle value"
      ]
    },
    {
      "cell_type": "code",
      "execution_count": 5,
      "metadata": {
        "colab": {
          "base_uri": "https://localhost:8080/"
        },
        "id": "SlDdywgQwUkK",
        "outputId": "b88d21ac-4565-4e08-e49f-c1fa59a4ba64"
      },
      "outputs": [
        {
          "name": "stdout",
          "output_type": "stream",
          "text": [
            "The Bell mean is 89215.41, median is 77056.00, and std is 125035.07\n"
          ]
        }
      ],
      "source": [
        "bell_median = bell_wages.median()\n",
        "bell_mean = bell_wages.mean()\n",
        "bell_std = bell_wages.std()\n",
        "\n",
        "print(f\"The Bell mean is {bell_mean:.2f}, median is {bell_median:.2f}, and std is {bell_std:.2f}\")"
      ]
    },
    {
      "cell_type": "code",
      "execution_count": 6,
      "metadata": {
        "colab": {
          "base_uri": "https://localhost:8080/"
        },
        "id": "UCSAkPsIxp1A",
        "outputId": "e59673a8-eb68-45f5-f3eb-38ceea5dc4cc"
      },
      "outputs": [
        {
          "name": "stdout",
          "output_type": "stream",
          "text": [
            "The Duarte mean is 44713.88, median is 31597.00, and std is 36678.56\n"
          ]
        }
      ],
      "source": [
        "duarte_df = df[df['cityName'] == \"Duarte\"]\n",
        "duarte_wages = duarte_df['wages']\n",
        "duarte_median = duarte_wages.median()\n",
        "duarte_mean = duarte_wages.mean()\n",
        "duarte_std = duarte_wages.std()\n",
        "\n",
        "print(f\"The Duarte mean is {duarte_mean:.2f}, median is {duarte_median:.2f}, and std is {duarte_std:.2f}\")"
      ]
    },
    {
      "cell_type": "code",
      "execution_count": 12,
      "metadata": {
        "colab": {
          "base_uri": "https://localhost:8080/"
        },
        "id": "0dDM_16Nzeug",
        "outputId": "250045f6-25b0-4132-e5a9-41d9a58c96df"
      },
      "outputs": [
        {
          "name": "stdout",
          "output_type": "stream",
          "text": [
            "The deviation of max wage in Bell is 8.6552\n"
          ]
        }
      ],
      "source": [
        "max_bell = bell_wages.max()\n",
        "deviation_bell = (max_bell-bell_mean)/bell_std\n",
        "print(f\"The deviation of max wage in Bell is {deviation:.4f}\")"
      ]
    },
    {
      "cell_type": "code",
      "execution_count": 11,
      "metadata": {},
      "outputs": [
        {
          "name": "stdout",
          "output_type": "stream",
          "text": [
            "The deviation of max wage in Duarte is 4.6554\n"
          ]
        }
      ],
      "source": [
        "max_duarte = duarte_wages.max()\n",
        "deviation_duarte = (max_duarte-duarte_mean)/duarte_std\n",
        "print(f\"The deviation of max wage in Duarte is {deviation_duarte:.4f}\")"
      ]
    },
    {
      "cell_type": "markdown",
      "metadata": {},
      "source": [
        "2(c)The deviation of the maximum wage in Bell is over 8 standard deviations and that is suspicious "
      ]
    },
    {
      "cell_type": "markdown",
      "metadata": {},
      "source": [
        "The median is used to measure the center fo the data "
      ]
    },
    {
      "cell_type": "markdown",
      "metadata": {},
      "source": [
        "The standard deviation is a way to measure the spread of the data and tells how far values are from the center of the data"
      ]
    }
  ],
  "metadata": {
    "colab": {
      "provenance": []
    },
    "kernelspec": {
      "display_name": ".venv",
      "language": "python",
      "name": "python3"
    },
    "language_info": {
      "codemirror_mode": {
        "name": "ipython",
        "version": 3
      },
      "file_extension": ".py",
      "mimetype": "text/x-python",
      "name": "python",
      "nbconvert_exporter": "python",
      "pygments_lexer": "ipython3",
      "version": "3.9.6"
    }
  },
  "nbformat": 4,
  "nbformat_minor": 0
}
